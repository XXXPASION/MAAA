{
 "cells": [
  {
   "cell_type": "markdown",
   "id": "553dbc94",
   "metadata": {},
   "source": [
    "\n",
    "## PRÁCTICA 2 - Métodos Avanzados en Aprendizaje Automático\n",
    "## Gradient Boosting\n",
    "\n",
    "### Guillermo Hoyo Bravo y Adrián Rubio Pintado  -  Master Ciencia de Datos 2021"
   ]
  },
  {
   "cell_type": "markdown",
   "id": "8042b294",
   "metadata": {},
   "source": [
    "En esta práctica vamos a hacer una implementación propia del algoritmo de aprendizaje automático Gradient Boosting y a hacer posteriormente una comparativa con la implementación de la librería sklearn para el mismo algoritmo.\n",
    "\n",
    "\n",
    "La implementación Gradient Boosting utilizará árboles de decisión como algoritmos base. Empleando la técnica boosting, propia de los conjuntos de clasificadores), conseguiremos a partir de varios clasificadores débiles conectados en serie, un clasificador resultante robusto.\n",
    "\n",
    "Solo se va a implementar Gradient Boosting para regresión y para clasificación binaria con clases igual a -1 y +1. Para ello se implementará la clase genérica GBCasero, que hará uso de SquaredErrorLoss o LogLoss según sea un problema de regresión o clasificación, ya que las funciones de pérdida a optimizar son distintas."
   ]
  },
  {
   "cell_type": "markdown",
   "id": "82764509",
   "metadata": {},
   "source": [
    "### Funciones auxiliares \n",
    "Las utilizaremos para poder analizar la implementación del algoritmo."
   ]
  },
  {
   "cell_type": "code",
   "execution_count": 2,
   "id": "7b8e2141",
   "metadata": {},
   "outputs": [],
   "source": [
    "%matplotlib inline\n",
    "import numpy as np\n",
    "import scipy as sp\n",
    "from scipy import stats\n",
    "import matplotlib.pyplot as plt"
   ]
  },
  {
   "cell_type": "code",
   "execution_count": 3,
   "id": "e26d0f8f",
   "metadata": {},
   "outputs": [],
   "source": [
    "def createDataSet(n,model,ymargin,noise=None,output_boundary=False):\n",
    "    x = np.random.rand(n,1)*2.0*np.pi\n",
    "    xbnd = np.linspace(0,2.0*np.pi,100)\n",
    "\n",
    "    if model == 'sine':\n",
    "        y = (np.random.rand(n,1) - 0.5)*2.2\n",
    "        c = y > np.sin(x)\n",
    "        ybnd = np.sin(xbnd)\n",
    "    elif model == 'linear':\n",
    "        y = np.random.rand(n,1)*2.0*np.pi\n",
    "        c = y > x\n",
    "        ybnd = xbnd\n",
    "    elif model == 'square':\n",
    "        y = np.random.rand(n,1)*4.0*np.pi*np.pi\n",
    "        c = y > x*x\n",
    "        ybnd = xbnd*xbnd\n",
    "    else:\n",
    "        y = np.random.rand(n,1)*2.0*np.pi\n",
    "        c = y > x\n",
    "        ybnd = xbnd\n",
    "    \n",
    "    y[c == True] = y[c == True] + ymargin\n",
    "    y[c == False] = y[c == False] - ymargin\n",
    "    \n",
    "    if noise is not None:\n",
    "        y = y + noise * np.random.randn(n,1)\n",
    "        x = x + noise * np.random.randn(n,1)\n",
    "\n",
    "    if output_boundary == True:\n",
    "        return x, y, (c*1).ravel(), xbnd, ybnd\n",
    "    else:\n",
    "        return x, y, (c*1).ravel()"
   ]
  },
  {
   "cell_type": "code",
   "execution_count": 4,
   "id": "865a941b",
   "metadata": {},
   "outputs": [],
   "source": [
    "def plotModel(x,y,clase,clf,title=\"\"):\n",
    "    from matplotlib.colors import ListedColormap\n",
    "    \n",
    "    x_min, x_max = x.min() - .2, x.max() + .2\n",
    "    y_min, y_max = y.min() - .2, y.max() + .2\n",
    "    hx = (x_max - x_min)/100.\n",
    "    hy = (y_max - y_min)/100.\n",
    "    xx, yy = np.meshgrid(np.arange(x_min, x_max, hx), np.arange(y_min, y_max, hy))\n",
    "\n",
    "    if hasattr(clf, \"decision_function\"):\n",
    "        z = clf.decision_function(np.c_[xx.ravel(), yy.ravel()])\n",
    "    elif hasattr(clf, \"predict_proba\"):\n",
    "        z = clf.predict_proba(np.c_[xx.ravel(), yy.ravel()])[:, 1]\n",
    "    else:\n",
    "        z = clf.predict(np.c_[xx.ravel(), yy.ravel()])\n",
    "\n",
    "    z = z.reshape(xx.shape)\n",
    "    cm = plt.cm.RdBu\n",
    "    cm_bright = ListedColormap(['#FF0000', '#0000FF'])\n",
    "    \n",
    "    plt.contourf(xx, yy, z, cmap=cm, alpha=.8)\n",
    "    plt.contour(xx, yy, z, [0.5], linewidths=[2], colors=['k'])\n",
    "\n",
    "    if clase is not None:\n",
    "        plt.scatter(x[clase==0], y[clase==0], c='#FF0000')\n",
    "        plt.scatter(x[clase==1], y[clase==1], c='#0000FF')\n",
    "    else:\n",
    "        plt.plot(x,y,'g', linewidth=3)\n",
    "        \n",
    "    plt.gca().set_xlim(xx.min(), xx.max())\n",
    "    plt.gca().set_ylim(yy.min(), yy.max())\n",
    "    plt.grid(True)\n",
    "    plt.xlabel(\"X\")\n",
    "    plt.ylabel(\"Y\")\n",
    "    plt.title(title)"
   ]
  },
  {
   "cell_type": "code",
   "execution_count": 5,
   "id": "074d934c",
   "metadata": {},
   "outputs": [],
   "source": [
    "def plotData(x,y,c,style0,style1,title=''):\n",
    "    plt.scatter(x[c==0],y[c==0],**style0)\n",
    "    plt.scatter(x[c==1],y[c==1],**style1)\n",
    "    plt.grid(True)\n",
    "    plt.axis([x.min()-0.2, x.max()+0.2, y.min()-0.2, y.max()+0.2])\n",
    "    plt.xlabel(\"X\")\n",
    "    plt.ylabel(\"Y\")\n",
    "    plt.title(title)"
   ]
  },
  {
   "cell_type": "markdown",
   "id": "10a82e98",
   "metadata": {},
   "source": [
    "### Código"
   ]
  },
  {
   "cell_type": "markdown",
   "id": "0c59c214",
   "metadata": {},
   "source": [
    "Para regresión implementamos la clase SquaredErrorLoss:"
   ]
  },
  {
   "cell_type": "code",
   "execution_count": 214,
   "id": "c2f17a8a",
   "metadata": {},
   "outputs": [],
   "source": [
    "class SquaredErrorLoss:\n",
    "    \"\"\" Clase que define elementos para la función cuadrática de perdida \n",
    "        para regresión \"\"\"\n",
    "    \n",
    "        \n",
    "    def __init__(self):\n",
    "        self.type = 'Regressor'\n",
    "    \n",
    "    def F0(_, X, y):\n",
    "        \"\"\" Calcula el valor constate que minimiza la salida 'y' \"\"\"\n",
    "        return np.mean(y)\n",
    "\n",
    "    def residuos(_, y, F):\n",
    "        \"\"\" Calcula los residuos para un objetivo 'y' y \n",
    "            una salida del modelo F \"\"\"\n",
    "        return y-F\n",
    "\n",
    "    ## CAMBIO 01\n",
    "    def paso_newton_hoja(_, y, residuos, valor):\n",
    "        \"\"\" Función para actualizar la salida de una hoja el árbol\n",
    "        \n",
    "           Recibe información sobre los ejemplos de una hoja dada. En concreto\n",
    "           para los ejemplos que caen en una hoja:\n",
    "              * El vector de valores a predecir (y)\n",
    "              * Los pseudo-residuos (residuos) sobre los que se ha\n",
    "                entrenado al arbol regresor ht\n",
    "           Además recine el valor actual de salida de la hoja\n",
    "              \n",
    "            Debe devolver el valor actualizado\n",
    "        \"\"\"\n",
    "        #multiplicador = 1 en SquarredErrodLoss\n",
    "        return valor\n",
    "    \n",
    "    def __call__(self, y, F):\n",
    "        \"\"\" Devuelve el valor de la función de pérdida para un objetivo 'y' y \n",
    "            una salida del modelo F \"\"\"\n",
    "        return 0.5*(y-F)**2"
   ]
  },
  {
   "cell_type": "markdown",
   "id": "e53429b9",
   "metadata": {},
   "source": [
    "Para clasificación implementamos la clase LogLoss:"
   ]
  },
  {
   "cell_type": "code",
   "execution_count": 264,
   "id": "cc047fdc",
   "metadata": {},
   "outputs": [],
   "source": [
    "class LogLoss:\n",
    "    \"\"\" Clase que define elementos para la función logística de perdida \n",
    "        para clasificación de dos clases {-1, +1} \"\"\"\n",
    "    \n",
    "    def __init__(self):\n",
    "        self.type = ' Classifier'\n",
    "        \n",
    "    def F0(_, X, y):\n",
    "        \"\"\" Calcula el valor constate que minimiza la salida 'y' \"\"\"\n",
    "        #y e {-1,1}\n",
    "        media = np.mean(y)\n",
    "        return 0.5 * np.log( (1+ media) / (1-media) )\n",
    "\n",
    "    def residuos(_, y, F):\n",
    "        \"\"\" Calcula los residuos para un objetivo 'y' y \n",
    "            una salida del modelo F \"\"\"\n",
    "        return (2.0*y) / (1+ np.exp(2.0*y*F))\n",
    "\n",
    "    ## CAMBIO 02\n",
    "    def paso_newton_hoja(_, y, residuos, valor):\n",
    "        \"\"\" Función para actualizar la salida de una hoja el árbol\n",
    "        \n",
    "           Recibe información sobre los ejemplos de una hoja dada. En concreto\n",
    "           para los ejemplos que caen en una hoja:\n",
    "              * El vector de valores a predecir (y)\n",
    "              * Los pseudo-residuos (residuos) sobre los que se ha\n",
    "                entrenado alarbol regresor ht\n",
    "           Además recine el valor actual de salida de la hoja\n",
    "              \n",
    "            Debe devolver el valor actualizado\n",
    "        \"\"\"\n",
    "        abs_residuos = np.abs(residuos)\n",
    "        num = np.sum(residuos)\n",
    "        denom = np.sum(abs_residuos*(2-abs_residuos))\n",
    "        # Prevent by zero divison\n",
    "        multiplicador = np.divide(num, denom, out=np.zeros_like(sum), where= denom!=0)\n",
    "        return multiplicador\n",
    "        #return multiplicador * valor\n",
    "\n",
    "    def __call__(self,y, F):\n",
    "        \"\"\" Devuelve el valor de la función de pérdida para un objetivo 'y' y \n",
    "            una salida del modelo F \"\"\"\n",
    "        return np.log(1+np.exp(-2.0*y*F))"
   ]
  },
  {
   "cell_type": "markdown",
   "id": "3796654c",
   "metadata": {},
   "source": [
    "Implementamos ahora la versión genérica del algoritmo para regresión/clasificación"
   ]
  },
  {
   "cell_type": "code",
   "execution_count": 371,
   "id": "2f2218ff",
   "metadata": {},
   "outputs": [],
   "source": [
    "from sklearn.tree import DecisionTreeRegressor\n",
    "from sklearn.utils import check_X_y\n",
    "class GBCasero:\n",
    "    def __init__(self, n_estimators=101, loss=SquaredErrorLoss(), eta=0.1, depth=3):\n",
    "        self.n_estimators = n_estimators\n",
    "        self._estimators  = []\n",
    "        self.depth        = depth # max trees depth\n",
    "        self.eta          = eta # learning rate\n",
    "        # La implementación de loss se usará en fit para crear el algoritmo\n",
    "        # GB de forma genérica.\n",
    "        self.loss         = loss\n",
    "    \n",
    "    def fit(self,X,y):\n",
    "        \"\"\"\n",
    "          Entrena el algoritmo utilizando arboles de decision\n",
    "          Emplea la clase loss para poder utilizar el algoritmo\n",
    "          de forma génerica en regresion y clasificación\n",
    "        \"\"\"\n",
    "        \n",
    "        #Check the inputs\n",
    "        check_X_y(X,y)\n",
    "        if(self.loss.type ==  'Classifier'):\n",
    "            assert (np.abs(a) == 1).all(), 'For Classifier method all clasess must be 1 or -1'\n",
    "        \n",
    "        \n",
    "        self.F0 = self.loss.F0(X, y)\n",
    "        F = np.full(y.shape, self.F0)\n",
    "        \n",
    "        \n",
    "        for m in range(self.n_estimators):\n",
    "    \n",
    "            tree = DecisionTreeRegressor(max_depth = self.depth)\n",
    "           \n",
    "            # 1 Compute the pseudo-residuals for each instance\n",
    "            residuos= self.loss.residuos(y, F)\n",
    "            \n",
    "            # 2 Fit a regressor h(x) on residuals, Va a aprender lo que falta de los datos\n",
    "            # tree = h_t\n",
    "            tree.fit(X,residuos )\n",
    "            \n",
    "            # 3 Compute multiplier amd update the tree leafs\n",
    "            #  h_t = ro*h_t\n",
    "            self.paso_newton_general(tree, X, y, residuos)\n",
    "            \n",
    "            # 4 Update model\n",
    "            self._estimators.append(tree)\n",
    "            F +=  self.eta * tree.predict(X)\n",
    "            \n",
    "        return self\n",
    "            \n",
    "            \n",
    "    def predict(self,X):\n",
    "        \"\"\" Combinamos los valores de pesos y hs para obtener la 'salida', y:\n",
    "               * Para regresión se devuelve 'salida'\n",
    "               * Para clasificación de 2 clases se calcula la probabilidad\n",
    "                  con una sigmoidal (1 / (1 + np.exp(-2*salida))) y se \n",
    "                  devuelve la clase más probable \"\"\"\n",
    "        \n",
    "        assert X.ndim == 2, 'X must be a 2D matrix'\n",
    "        \n",
    "        result =  np.full(X.shape[0], self.F0)\n",
    "        \n",
    "        for tree in self._estimators:\n",
    "            result += self.eta * tree.predict(X)\n",
    "            \n",
    "        if(self.loss.type ==  'Regressor'):\n",
    "            return result\n",
    "        else:#Classifier output\n",
    "            return np.sign(result)\n",
    "            \n",
    "    ## CAMBIO 03\n",
    "    def paso_newton_general(self, tree, X, y, residuos):\n",
    "        \"\"\" Esta función actualiza todas las hojas de salida\n",
    "            del árbol 'tree' utilizado la función paso_newton_hoja\n",
    "            de las clases de funcion de pérdida \"\"\"\n",
    "        TREE_LEAF = -1\n",
    "        tree = tree.tree_\n",
    "        leaf_indices = tree.apply(np.array(X,dtype=np.float32))\n",
    "        for leaf in np.where(tree.children_left == TREE_LEAF)[0]:\n",
    "            ii = leaf_indices==leaf\n",
    "            tree.value[leaf,0,0] = self.loss.paso_newton_hoja(y[ii],\n",
    "                                                              residuos[ii],\n",
    "                                                              tree.value[leaf,0,0])\n"
   ]
  },
  {
   "cell_type": "markdown",
   "id": "555b1352",
   "metadata": {},
   "source": [
    "# Testeo del Código \n",
    "## Regresión\n",
    "\n",
    "Empleamos primero un ejemplo de dos clases para regresión y comparamos el error y frontera de decisión obtenidos con la implementación de sklearn.\n",
    "\n",
    "#### Ejemplo 1"
   ]
  },
  {
   "cell_type": "code",
   "execution_count": 334,
   "id": "6f718334",
   "metadata": {},
   "outputs": [],
   "source": [
    "from sklearn.ensemble import GradientBoostingClassifier, GradientBoostingRegressor"
   ]
  },
  {
   "cell_type": "markdown",
   "id": "9d48e8e8",
   "metadata": {},
   "source": [
    "Generamos los datos y los graficamos"
   ]
  },
  {
   "cell_type": "code",
   "execution_count": 335,
   "id": "61f88d67",
   "metadata": {},
   "outputs": [
    {
     "data": {
      "image/png": "[encoded data removed]",
      "text/plain": [
       "<Figure size 432x288 with 1 Axes>"
      ]
     },
     "metadata": {
      "needs_background": "light"
     },
     "output_type": "display_data"
    }
   ],
   "source": [
    "# Problem data:\n",
    "np.random.seed(11)\n",
    "n = 300\n",
    "model = 'sine'\n",
    "ymargin = 0.\n",
    "noise = 0.0           # <========= Modifica este valor 0 ó 0.3,\n",
    "x1, x2, ytrain, xbnd, ybnd = createDataSet(n, model, ymargin, noise, True)\n",
    "x1test, x2test, ytest = createDataSet(n*10, model, ymargin, noise)\n",
    "plotData(x1,x2,ytrain,{'c':'#FF0000'},{'c':'#0000FF'})\n",
    "Xtrain = np.concatenate((x1, x2), axis = 1)\n",
    "Xtest = np.concatenate((x1test, x2test), axis = 1)"
   ]
  },
  {
   "cell_type": "markdown",
   "id": "0d641fcd",
   "metadata": {},
   "source": [
    "##### **Gradient Boosting Casero**"
   ]
  },
  {
   "cell_type": "code",
   "execution_count": 363,
   "id": "956416c7",
   "metadata": {},
   "outputs": [
    {
     "name": "stdout",
     "output_type": "stream",
     "text": [
      "Test MSE sklearn: 0.025459547846088063\n"
     ]
    },
    {
     "data": {
      "image/png": "[encoded data removed]",
      "text/plain": [
       "<Figure size 432x288 with 1 Axes>"
      ]
     },
     "metadata": {
      "needs_background": "light"
     },
     "output_type": "display_data"
    }
   ],
   "source": [
    "gb_casero = GBCasero(n_estimators=100, loss=SquaredErrorLoss(), eta=0.1, depth=3)\n",
    "gb_casero.fit(Xtrain, ytrain)\n",
    "plotModel(x1,x2,ytrain,gb_casero)\n",
    "print(\"Test MSE sklearn:\" , np.mean(   SquaredErrorLoss()(ytest, gb_casero.predict(Xtest))) )"
   ]
  },
  {
   "cell_type": "markdown",
   "id": "958c2b8a",
   "metadata": {},
   "source": [
    "##### **Sklearn**"
   ]
  },
  {
   "cell_type": "code",
   "execution_count": 364,
   "id": "f7a38cfd",
   "metadata": {},
   "outputs": [
    {
     "name": "stdout",
     "output_type": "stream",
     "text": [
      "Test MSE sklearn: 0.025449039122754775\n"
     ]
    },
    {
     "data": {
      "image/png": "[encoded data removed]",
      "text/plain": [
       "<Figure size 432x288 with 1 Axes>"
      ]
     },
     "metadata": {
      "needs_background": "light"
     },
     "output_type": "display_data"
    }
   ],
   "source": [
    "gb_sk = GradientBoostingRegressor(n_estimators=100,criterion=\"mse\",learning_rate=0.1,max_depth=3, random_state=123)\n",
    "gb_sk.fit(Xtrain, ytrain)\n",
    "plotModel(x1,x2,ytrain,gb_sk)\n",
    "print(\"Test MSE sklearn:\" , np.mean(   SquaredErrorLoss()(ytest, gb_sk.predict(Xtest))) )"
   ]
  },
  {
   "cell_type": "markdown",
   "id": "bab73080",
   "metadata": {},
   "source": [
    "Para calcular el error de los modelos utilizamos el **MSE o error cuadrático medio**, que puede ser interpretado como la distancia media entre nuestras predicciones y los valores reales. Observamos como para el ejemplo dado obtenemos el mismo porcentaje de error y prácticamente la misma frontera de decisión(con los datos de train) que la implementación de sklearn, lo cual nos sirve para validar nuestro código. Dado que solo disponíamos de 2 clases vamos a testearlo con un dataset de regresión más adecuado."
   ]
  },
  {
   "cell_type": "markdown",
   "id": "b5321171",
   "metadata": {},
   "source": [
    "#### Ejemplo 2\n",
    "\n",
    "Para este caso utilizamos el dataset de 'boston' de sklearn, que permite predecir el precio de la vivienda."
   ]
  },
  {
   "cell_type": "code",
   "execution_count": 365,
   "id": "5c3a2b4a",
   "metadata": {},
   "outputs": [],
   "source": [
    "from sklearn.datasets import load_boston\n",
    "from sklearn.model_selection import train_test_split\n",
    "import pandas as pd\n",
    "from sklearn.metrics import mean_absolute_error\n",
    "\n",
    "boston = load_boston()\n",
    "X = pd.DataFrame(boston.data, columns=boston.feature_names)\n",
    "y = pd.Series(boston.target)\n",
    "\n",
    "X_train, X_test, y_train, y_test = train_test_split(X, y)"
   ]
  },
  {
   "cell_type": "markdown",
   "id": "13ec4af8",
   "metadata": {},
   "source": [
    " Para unos hiperparámetros optimizados empíricamente(no al máximo) de igual valor para los 2 algoritmos, obtenemos un MSE de:"
   ]
  },
  {
   "cell_type": "markdown",
   "id": "fb2d92dd",
   "metadata": {},
   "source": [
    "##### **Gradient Boosting Casero**"
   ]
  },
  {
   "cell_type": "code",
   "execution_count": 369,
   "id": "4b5d8f8b",
   "metadata": {},
   "outputs": [
    {
     "data": {
      "text/plain": [
       "2.384943730142947"
      ]
     },
     "execution_count": 369,
     "metadata": {},
     "output_type": "execute_result"
    }
   ],
   "source": [
    "gb_casero_boston = GBCasero(n_estimators=100, loss=SquaredErrorLoss(), eta=0.1, depth=3)\n",
    "gb_casero_boston.fit(X_train, y_train)\n",
    "y_pred_gb_casero_boston = gb_casero_boston.predict(X_test)\n",
    "mean_absolute_error(y_test, y_pred_gb_casero_boston)"
   ]
  },
  {
   "cell_type": "markdown",
   "id": "5657da2d",
   "metadata": {},
   "source": [
    "##### **Sklearn**"
   ]
  },
  {
   "cell_type": "code",
   "execution_count": 370,
   "id": "6e984d70",
   "metadata": {},
   "outputs": [
    {
     "data": {
      "text/plain": [
       "2.401279338613909"
      ]
     },
     "execution_count": 370,
     "metadata": {},
     "output_type": "execute_result"
    }
   ],
   "source": [
    "gb_sk_boston = GradientBoostingRegressor(max_depth=3, n_estimators=100,learning_rate=0.1)\n",
    "gb_sk_boston.fit(X_train, y_train)\n",
    "y_pred_gb_sk_boston = gb_sk_boston.predict(X_test)\n",
    "mean_absolute_error(y_test, y_pred_gb_sk_boston)"
   ]
  },
  {
   "cell_type": "markdown",
   "id": "8e201033",
   "metadata": {},
   "source": [
    "De nuevo vemos como nuestro modelo da para los mismos hiperparámetros un error prácticamente similar, lo que nos permite **validar nuestra implementación para regresión** del algoritmo de Gradient Boosting."
   ]
  },
  {
   "cell_type": "markdown",
   "id": "0aecd8cc",
   "metadata": {},
   "source": [
    "## Clasificación\n",
    "\n",
    "Dado que las clases generadas por nuestra función de creación de datasets son 0 y 1, convertimos los 0's en -1's, ya que  utilizamos la función signo para distinguir entre las dos clases posibles(1 y -1).\n",
    "Utilizamos de nuevo los datos creados para el primer ejemplo de regresión(con 2 clases) y comparamos el error y la frontera de decisión(con los datos de train) de nuestra implementación de GB para clasificación con la de sklearn.\n",
    "\n",
    "Dado que estamos en clasificación, es decir, el dominio del problema, utilizamos como métrica de rendimiento de los modelos el accuracy(precisión), con ella podemos ver la fracción de prediciones que los modelos han pronosticado correctamente."
   ]
  },
  {
   "cell_type": "code",
   "execution_count": 348,
   "id": "ba5d41a7",
   "metadata": {},
   "outputs": [],
   "source": [
    "from sklearn.metrics import accuracy_score\n",
    "\n",
    "ytrain_classif = np.where(ytrain==0, -1 ,ytrain) \n",
    "ytest_classif =  np.where(ytest==0, -1 ,ytest) "
   ]
  },
  {
   "cell_type": "markdown",
   "id": "3f08129c",
   "metadata": {},
   "source": [
    "##### **Gradient Boosting Casero**"
   ]
  },
  {
   "cell_type": "code",
   "execution_count": 351,
   "id": "b80cb678",
   "metadata": {},
   "outputs": [
    {
     "name": "stdout",
     "output_type": "stream",
     "text": [
      "Test Error Log loss GB Casero: 0.22692801104297264\n",
      "Accuracy Log loss GB Casero:  0.95\n"
     ]
    },
    {
     "data": {
      "image/png": "[encoded data removed]",
      "text/plain": [
       "<Figure size 432x288 with 1 Axes>"
      ]
     },
     "metadata": {
      "needs_background": "light"
     },
     "output_type": "display_data"
    }
   ],
   "source": [
    "gb_casero_cla = GBCasero(n_estimators=100, loss=LogLoss(), eta=0.1, depth=3)\n",
    "gb_casero_cla.fit(Xtrain, ytrain_classif)\n",
    "plotModel(x1,x2,ytrain_classif,gb_casero_cla)\n",
    "gb_casero_cla_predictions = gb_casero_cla.predict(Xtest)\n",
    "print(\"Test Error Log loss GB Casero:\" , np.mean(   LogLoss()(ytest_classif,gb_casero_cla_predictions )) )\n",
    "print('Accuracy Log loss GB Casero: ', accuracy_score(ytest_classif, gb_casero_cla_predictions ) )"
   ]
  },
  {
   "cell_type": "markdown",
   "id": "5f17fa72",
   "metadata": {},
   "source": [
    "##### **Sklearn**"
   ]
  },
  {
   "cell_type": "code",
   "execution_count": 352,
   "id": "4bc66b07",
   "metadata": {},
   "outputs": [
    {
     "name": "stdout",
     "output_type": "stream",
     "text": [
      "Test Error Log loss sklearn: 0.22692801104297264\n",
      "Accuracy Log loss GB sklearn:  0.95\n"
     ]
    },
    {
     "data": {
      "image/png": "[encoded data removed]",
      "text/plain": [
       "<Figure size 432x288 with 1 Axes>"
      ]
     },
     "metadata": {
      "needs_background": "light"
     },
     "output_type": "display_data"
    }
   ],
   "source": [
    "gb_sk_cla = GradientBoostingClassifier(n_estimators=100,criterion=\"mse\",learning_rate=0.1,max_depth=3, random_state=123)\n",
    "gb_sk_cla.fit(Xtrain, ytrain_classif)\n",
    "plotModel(x1,x2,ytrain_classif,gb_sk_cla)\n",
    "gb_sk_cla_predictions = gb_sk_cla.predict(Xtest)\n",
    "print(\"Test Error Log loss sklearn:\" , np.mean(   LogLoss()(ytest_classif, gb_sk_cla_predictions)) )\n",
    "print('Accuracy Log loss GB sklearn: ', accuracy_score(ytest_classif, gb_sk_cla_predictions ) )"
   ]
  },
  {
   "cell_type": "markdown",
   "id": "827d4b62",
   "metadata": {},
   "source": [
    "En ambos modelos obtenemos una precisión del 95%(para los hiperparámetros seleccionados). De nuevo vemos como nuestro modelo da un error y un accuracy prácticamente similar al de sklearn, lo que nos permite **validar nuestra implementación para clasificación** del algoritmo de Gradient Boosting."
   ]
  },
  {
   "cell_type": "code",
   "execution_count": null,
   "id": "a7c63aa3",
   "metadata": {},
   "outputs": [],
   "source": []
  },
  {
   "cell_type": "code",
   "execution_count": null,
   "id": "2aa2af93",
   "metadata": {},
   "outputs": [],
   "source": []
  },
  {
   "cell_type": "markdown",
   "id": "f1c7bffb",
   "metadata": {},
   "source": [
    "# BORRAR ESTO DE LOS TIEMPOS"
   ]
  },
  {
   "cell_type": "code",
   "execution_count": 358,
   "id": "46d4734c",
   "metadata": {},
   "outputs": [
    {
     "name": "stdout",
     "output_type": "stream",
     "text": [
      "Tiempo de entrenamiento con 379 ejemplos: 0.4732 s.\n"
     ]
    }
   ],
   "source": [
    "\n",
    "import timeit\n",
    "\n",
    "\n",
    "n_executions = 10\n",
    "\n",
    "\n",
    "# Tiempo de entrenamiento\n",
    "tic = timeit.default_timer()\n",
    "for ie in range(n_executions):    # Puede ser necesario ejecutarlo varias veces para obtener tiempos más estables\n",
    "    gb_casero_boston.fit(X_train, y_train)\n",
    "toc = timeit.default_timer()\n",
    "\n",
    "print(\"Tiempo de entrenamiento con {} ejemplos: {:.4g} s.\".format(len(X_train),(toc - tic)/n_executions))\n"
   ]
  },
  {
   "cell_type": "code",
   "execution_count": 359,
   "id": "321760b9",
   "metadata": {},
   "outputs": [
    {
     "name": "stdout",
     "output_type": "stream",
     "text": [
      "Tiempo de entrenamiento con 379 ejemplos: 0.1017 s.\n"
     ]
    }
   ],
   "source": [
    "import timeit\n",
    "\n",
    "\n",
    "n_executions = 10\n",
    "\n",
    "\n",
    "# Tiempo de entrenamiento\n",
    "tic = timeit.default_timer()\n",
    "for ie in range(n_executions):    # Puede ser necesario ejecutarlo varias veces para obtener tiempos más estables\n",
    "    gb_sk_boston.fit(X_train, y_train)\n",
    "toc = timeit.default_timer()\n",
    "\n",
    "print(\"Tiempo de entrenamiento con {} ejemplos: {:.4g} s.\".format(len(X_train),(toc - tic)/n_executions))\n"
   ]
  },
  {
   "cell_type": "code",
   "execution_count": null,
   "id": "d0953d1d",
   "metadata": {},
   "outputs": [],
   "source": []
  }
 ],
 "metadata": {
  "kernelspec": {
   "display_name": "Python 3 (ipykernel)",
   "language": "python",
   "name": "python3"
  },
  "language_info": {
   "codemirror_mode": {
    "name": "ipython",
    "version": 3
   },
   "file_extension": ".py",
   "mimetype": "text/x-python",
   "name": "python",
   "nbconvert_exporter": "python",
   "pygments_lexer": "ipython3",
   "version": "3.8.5"
  }
 },
 "nbformat": 4,
 "nbformat_minor": 5
}
